{
  "nbformat": 4,
  "nbformat_minor": 0,
  "metadata": {
    "kernelspec": {
      "display_name": "Python 3",
      "language": "python",
      "name": "python3"
    },
    "language_info": {
      "codemirror_mode": {
        "name": "ipython",
        "version": 3
      },
      "file_extension": ".py",
      "mimetype": "text/x-python",
      "name": "python",
      "nbconvert_exporter": "python",
      "pygments_lexer": "ipython3",
      "version": "3.8.2"
    },
    "colab": {
      "name": "DS_Bitácora_21_CV_y_ROC.ipynb",
      "provenance": [],
      "collapsed_sections": [
        "PZD2oX3Ee8Y8",
        "OwLgPKzQe8ZA",
        "s2Z2htpLe8ZJ",
        "hnrFsTANe8ZS"
      ],
      "include_colab_link": true
    }
  },
  "cells": [
    {
      "cell_type": "markdown",
      "metadata": {
        "id": "view-in-github",
        "colab_type": "text"
      },
      "source": [
        "<a href=\"https://colab.research.google.com/github/solariasmartinez/Acamica-Data-Science/blob/master/DS_Bit%C3%A1cora_21_CV_y_ROC.ipynb\" target=\"_parent\"><img src=\"https://colab.research.google.com/assets/colab-badge.svg\" alt=\"Open In Colab\"/></a>"
      ]
    },
    {
      "cell_type": "markdown",
      "metadata": {
        "id": "DbZdipdTe8Xl"
      },
      "source": [
        "# Validación Cruzada, Curvas de Validación y Curvas de ROC\n",
        "\n",
        "¡Gracias Martín Gonella por la creación de los contenidos de este encuentro!\n",
        "\n",
        "\n",
        "En este notebook veremos cómo utilizar Validación Cruzada en Scikit-Learn. Luego, veremos cómo hacer una curva de validación incorporando esta técnica. Finalmente, haremos una curva ROC.\n",
        "\n",
        "\n",
        "## 1. Validación Cruzada\n",
        "\n",
        "En esta sección entrenaremos un modelo de árboles de decisión y uno de vecinos más cercanos sobre un nuevo dataset. Luego, evaluaremos estos modelos usando Validación Cruzada. \n",
        "\n",
        "### 1.1 Carga de Datos\n",
        "\n",
        "Scikit-Learn provee varias funciones para cargar datasets y también para generar datasets. Hoy vamos a usar el Breast Cancer Wisconsin (diagnostic) dataset. Empezaremos cargando los datos y haciendo una pequeña exploración."
      ]
    },
    {
      "cell_type": "code",
      "metadata": {
        "id": "05C0hbJue8Xo"
      },
      "source": [
        "import numpy as np\n",
        "import pandas as pd\n",
        "import matplotlib.pyplot as plt\n",
        "import seaborn as sns\n",
        "sns.set()"
      ],
      "execution_count": 1,
      "outputs": []
    },
    {
      "cell_type": "code",
      "metadata": {
        "id": "ex_bAWuhe8Xy"
      },
      "source": [
        "from sklearn.datasets import load_breast_cancer\n",
        "data = load_breast_cancer()"
      ],
      "execution_count": 2,
      "outputs": []
    },
    {
      "cell_type": "markdown",
      "metadata": {
        "id": "YOK60F6qe8X7"
      },
      "source": [
        "Si observan la variable `data`, podrán notar que es un `diccionario`, por lo tanto vamos a proceder a convertirlo en un `DataFrame` de Pandas."
      ]
    },
    {
      "cell_type": "code",
      "metadata": {
        "id": "BUGBwe9Se8X9"
      },
      "source": [
        "df = pd.DataFrame(np.c_[data['data'], data['target']],\n",
        "                  columns= np.append(data['feature_names'], ['target']))"
      ],
      "execution_count": 3,
      "outputs": []
    },
    {
      "cell_type": "code",
      "metadata": {
        "id": "QXTYwNeMe8YE",
        "colab": {
          "base_uri": "https://localhost:8080/",
          "height": 258
        },
        "outputId": "efe9a91f-de61-4032-d901-fa818e10fbef"
      },
      "source": [
        "df.head()"
      ],
      "execution_count": 4,
      "outputs": [
        {
          "output_type": "execute_result",
          "data": {
            "text/html": [
              "<div>\n",
              "<style scoped>\n",
              "    .dataframe tbody tr th:only-of-type {\n",
              "        vertical-align: middle;\n",
              "    }\n",
              "\n",
              "    .dataframe tbody tr th {\n",
              "        vertical-align: top;\n",
              "    }\n",
              "\n",
              "    .dataframe thead th {\n",
              "        text-align: right;\n",
              "    }\n",
              "</style>\n",
              "<table border=\"1\" class=\"dataframe\">\n",
              "  <thead>\n",
              "    <tr style=\"text-align: right;\">\n",
              "      <th></th>\n",
              "      <th>mean radius</th>\n",
              "      <th>mean texture</th>\n",
              "      <th>mean perimeter</th>\n",
              "      <th>mean area</th>\n",
              "      <th>mean smoothness</th>\n",
              "      <th>mean compactness</th>\n",
              "      <th>mean concavity</th>\n",
              "      <th>mean concave points</th>\n",
              "      <th>mean symmetry</th>\n",
              "      <th>mean fractal dimension</th>\n",
              "      <th>radius error</th>\n",
              "      <th>texture error</th>\n",
              "      <th>perimeter error</th>\n",
              "      <th>area error</th>\n",
              "      <th>smoothness error</th>\n",
              "      <th>compactness error</th>\n",
              "      <th>concavity error</th>\n",
              "      <th>concave points error</th>\n",
              "      <th>symmetry error</th>\n",
              "      <th>fractal dimension error</th>\n",
              "      <th>worst radius</th>\n",
              "      <th>worst texture</th>\n",
              "      <th>worst perimeter</th>\n",
              "      <th>worst area</th>\n",
              "      <th>worst smoothness</th>\n",
              "      <th>worst compactness</th>\n",
              "      <th>worst concavity</th>\n",
              "      <th>worst concave points</th>\n",
              "      <th>worst symmetry</th>\n",
              "      <th>worst fractal dimension</th>\n",
              "      <th>target</th>\n",
              "    </tr>\n",
              "  </thead>\n",
              "  <tbody>\n",
              "    <tr>\n",
              "      <th>0</th>\n",
              "      <td>17.99</td>\n",
              "      <td>10.38</td>\n",
              "      <td>122.80</td>\n",
              "      <td>1001.0</td>\n",
              "      <td>0.11840</td>\n",
              "      <td>0.27760</td>\n",
              "      <td>0.3001</td>\n",
              "      <td>0.14710</td>\n",
              "      <td>0.2419</td>\n",
              "      <td>0.07871</td>\n",
              "      <td>1.0950</td>\n",
              "      <td>0.9053</td>\n",
              "      <td>8.589</td>\n",
              "      <td>153.40</td>\n",
              "      <td>0.006399</td>\n",
              "      <td>0.04904</td>\n",
              "      <td>0.05373</td>\n",
              "      <td>0.01587</td>\n",
              "      <td>0.03003</td>\n",
              "      <td>0.006193</td>\n",
              "      <td>25.38</td>\n",
              "      <td>17.33</td>\n",
              "      <td>184.60</td>\n",
              "      <td>2019.0</td>\n",
              "      <td>0.1622</td>\n",
              "      <td>0.6656</td>\n",
              "      <td>0.7119</td>\n",
              "      <td>0.2654</td>\n",
              "      <td>0.4601</td>\n",
              "      <td>0.11890</td>\n",
              "      <td>0.0</td>\n",
              "    </tr>\n",
              "    <tr>\n",
              "      <th>1</th>\n",
              "      <td>20.57</td>\n",
              "      <td>17.77</td>\n",
              "      <td>132.90</td>\n",
              "      <td>1326.0</td>\n",
              "      <td>0.08474</td>\n",
              "      <td>0.07864</td>\n",
              "      <td>0.0869</td>\n",
              "      <td>0.07017</td>\n",
              "      <td>0.1812</td>\n",
              "      <td>0.05667</td>\n",
              "      <td>0.5435</td>\n",
              "      <td>0.7339</td>\n",
              "      <td>3.398</td>\n",
              "      <td>74.08</td>\n",
              "      <td>0.005225</td>\n",
              "      <td>0.01308</td>\n",
              "      <td>0.01860</td>\n",
              "      <td>0.01340</td>\n",
              "      <td>0.01389</td>\n",
              "      <td>0.003532</td>\n",
              "      <td>24.99</td>\n",
              "      <td>23.41</td>\n",
              "      <td>158.80</td>\n",
              "      <td>1956.0</td>\n",
              "      <td>0.1238</td>\n",
              "      <td>0.1866</td>\n",
              "      <td>0.2416</td>\n",
              "      <td>0.1860</td>\n",
              "      <td>0.2750</td>\n",
              "      <td>0.08902</td>\n",
              "      <td>0.0</td>\n",
              "    </tr>\n",
              "    <tr>\n",
              "      <th>2</th>\n",
              "      <td>19.69</td>\n",
              "      <td>21.25</td>\n",
              "      <td>130.00</td>\n",
              "      <td>1203.0</td>\n",
              "      <td>0.10960</td>\n",
              "      <td>0.15990</td>\n",
              "      <td>0.1974</td>\n",
              "      <td>0.12790</td>\n",
              "      <td>0.2069</td>\n",
              "      <td>0.05999</td>\n",
              "      <td>0.7456</td>\n",
              "      <td>0.7869</td>\n",
              "      <td>4.585</td>\n",
              "      <td>94.03</td>\n",
              "      <td>0.006150</td>\n",
              "      <td>0.04006</td>\n",
              "      <td>0.03832</td>\n",
              "      <td>0.02058</td>\n",
              "      <td>0.02250</td>\n",
              "      <td>0.004571</td>\n",
              "      <td>23.57</td>\n",
              "      <td>25.53</td>\n",
              "      <td>152.50</td>\n",
              "      <td>1709.0</td>\n",
              "      <td>0.1444</td>\n",
              "      <td>0.4245</td>\n",
              "      <td>0.4504</td>\n",
              "      <td>0.2430</td>\n",
              "      <td>0.3613</td>\n",
              "      <td>0.08758</td>\n",
              "      <td>0.0</td>\n",
              "    </tr>\n",
              "    <tr>\n",
              "      <th>3</th>\n",
              "      <td>11.42</td>\n",
              "      <td>20.38</td>\n",
              "      <td>77.58</td>\n",
              "      <td>386.1</td>\n",
              "      <td>0.14250</td>\n",
              "      <td>0.28390</td>\n",
              "      <td>0.2414</td>\n",
              "      <td>0.10520</td>\n",
              "      <td>0.2597</td>\n",
              "      <td>0.09744</td>\n",
              "      <td>0.4956</td>\n",
              "      <td>1.1560</td>\n",
              "      <td>3.445</td>\n",
              "      <td>27.23</td>\n",
              "      <td>0.009110</td>\n",
              "      <td>0.07458</td>\n",
              "      <td>0.05661</td>\n",
              "      <td>0.01867</td>\n",
              "      <td>0.05963</td>\n",
              "      <td>0.009208</td>\n",
              "      <td>14.91</td>\n",
              "      <td>26.50</td>\n",
              "      <td>98.87</td>\n",
              "      <td>567.7</td>\n",
              "      <td>0.2098</td>\n",
              "      <td>0.8663</td>\n",
              "      <td>0.6869</td>\n",
              "      <td>0.2575</td>\n",
              "      <td>0.6638</td>\n",
              "      <td>0.17300</td>\n",
              "      <td>0.0</td>\n",
              "    </tr>\n",
              "    <tr>\n",
              "      <th>4</th>\n",
              "      <td>20.29</td>\n",
              "      <td>14.34</td>\n",
              "      <td>135.10</td>\n",
              "      <td>1297.0</td>\n",
              "      <td>0.10030</td>\n",
              "      <td>0.13280</td>\n",
              "      <td>0.1980</td>\n",
              "      <td>0.10430</td>\n",
              "      <td>0.1809</td>\n",
              "      <td>0.05883</td>\n",
              "      <td>0.7572</td>\n",
              "      <td>0.7813</td>\n",
              "      <td>5.438</td>\n",
              "      <td>94.44</td>\n",
              "      <td>0.011490</td>\n",
              "      <td>0.02461</td>\n",
              "      <td>0.05688</td>\n",
              "      <td>0.01885</td>\n",
              "      <td>0.01756</td>\n",
              "      <td>0.005115</td>\n",
              "      <td>22.54</td>\n",
              "      <td>16.67</td>\n",
              "      <td>152.20</td>\n",
              "      <td>1575.0</td>\n",
              "      <td>0.1374</td>\n",
              "      <td>0.2050</td>\n",
              "      <td>0.4000</td>\n",
              "      <td>0.1625</td>\n",
              "      <td>0.2364</td>\n",
              "      <td>0.07678</td>\n",
              "      <td>0.0</td>\n",
              "    </tr>\n",
              "  </tbody>\n",
              "</table>\n",
              "</div>"
            ],
            "text/plain": [
              "   mean radius  mean texture  ...  worst fractal dimension  target\n",
              "0        17.99         10.38  ...                  0.11890     0.0\n",
              "1        20.57         17.77  ...                  0.08902     0.0\n",
              "2        19.69         21.25  ...                  0.08758     0.0\n",
              "3        11.42         20.38  ...                  0.17300     0.0\n",
              "4        20.29         14.34  ...                  0.07678     0.0\n",
              "\n",
              "[5 rows x 31 columns]"
            ]
          },
          "metadata": {
            "tags": []
          },
          "execution_count": 4
        }
      ]
    },
    {
      "cell_type": "markdown",
      "metadata": {
        "id": "29n6t0_ke8YL"
      },
      "source": [
        "¡Ya tenemos nuestro dataset en un DataFrame de Pandas!\n",
        "\n",
        "Comencemos con un poco de exploración."
      ]
    },
    {
      "cell_type": "code",
      "metadata": {
        "id": "piBmkS9Te8YM",
        "colab": {
          "base_uri": "https://localhost:8080/"
        },
        "outputId": "3d81e508-a5f3-4a9f-dc53-fb05d5d2af83"
      },
      "source": [
        "df.info()"
      ],
      "execution_count": 5,
      "outputs": [
        {
          "output_type": "stream",
          "text": [
            "<class 'pandas.core.frame.DataFrame'>\n",
            "RangeIndex: 569 entries, 0 to 568\n",
            "Data columns (total 31 columns):\n",
            " #   Column                   Non-Null Count  Dtype  \n",
            "---  ------                   --------------  -----  \n",
            " 0   mean radius              569 non-null    float64\n",
            " 1   mean texture             569 non-null    float64\n",
            " 2   mean perimeter           569 non-null    float64\n",
            " 3   mean area                569 non-null    float64\n",
            " 4   mean smoothness          569 non-null    float64\n",
            " 5   mean compactness         569 non-null    float64\n",
            " 6   mean concavity           569 non-null    float64\n",
            " 7   mean concave points      569 non-null    float64\n",
            " 8   mean symmetry            569 non-null    float64\n",
            " 9   mean fractal dimension   569 non-null    float64\n",
            " 10  radius error             569 non-null    float64\n",
            " 11  texture error            569 non-null    float64\n",
            " 12  perimeter error          569 non-null    float64\n",
            " 13  area error               569 non-null    float64\n",
            " 14  smoothness error         569 non-null    float64\n",
            " 15  compactness error        569 non-null    float64\n",
            " 16  concavity error          569 non-null    float64\n",
            " 17  concave points error     569 non-null    float64\n",
            " 18  symmetry error           569 non-null    float64\n",
            " 19  fractal dimension error  569 non-null    float64\n",
            " 20  worst radius             569 non-null    float64\n",
            " 21  worst texture            569 non-null    float64\n",
            " 22  worst perimeter          569 non-null    float64\n",
            " 23  worst area               569 non-null    float64\n",
            " 24  worst smoothness         569 non-null    float64\n",
            " 25  worst compactness        569 non-null    float64\n",
            " 26  worst concavity          569 non-null    float64\n",
            " 27  worst concave points     569 non-null    float64\n",
            " 28  worst symmetry           569 non-null    float64\n",
            " 29  worst fractal dimension  569 non-null    float64\n",
            " 30  target                   569 non-null    float64\n",
            "dtypes: float64(31)\n",
            "memory usage: 137.9 KB\n"
          ],
          "name": "stdout"
        }
      ]
    },
    {
      "cell_type": "markdown",
      "metadata": {
        "id": "usHb2fLQe8YS"
      },
      "source": [
        "Ahora veamos cuantos datos de cada etiqueta tenemos, para ellos debemos ver la columna `target`."
      ]
    },
    {
      "cell_type": "code",
      "metadata": {
        "id": "HRasXoaUe8YT",
        "colab": {
          "base_uri": "https://localhost:8080/",
          "height": 393
        },
        "outputId": "e323334e-3e40-415b-9924-2393a6392cf2"
      },
      "source": [
        "plt.figure(figsize=(10,5))\n",
        "sns.countplot(df['target'],label=\"Count\")\n",
        "plt.show()"
      ],
      "execution_count": 6,
      "outputs": [
        {
          "output_type": "stream",
          "text": [
            "/usr/local/lib/python3.6/dist-packages/seaborn/_decorators.py:43: FutureWarning: Pass the following variable as a keyword arg: x. From version 0.12, the only valid positional argument will be `data`, and passing other arguments without an explicit keyword will result in an error or misinterpretation.\n",
            "  FutureWarning\n"
          ],
          "name": "stderr"
        },
        {
          "output_type": "display_data",
          "data": {
            "image/png": "[encoded data removed]",
            "text/plain": [
              "<Figure size 720x360 with 1 Axes>"
            ]
          },
          "metadata": {
            "tags": [],
            "needs_background": "light"
          }
        }
      ]
    },
    {
      "cell_type": "markdown",
      "metadata": {
        "id": "qGpPoS1-e8YY"
      },
      "source": [
        "Para facilitar el análisis, seleccionamos solo aquellas columnas donde los nombres de los atributos comiencen con la palabra `mean`."
      ]
    },
    {
      "cell_type": "code",
      "metadata": {
        "id": "7BDmJOype8YZ",
        "colab": {
          "base_uri": "https://localhost:8080/"
        },
        "outputId": "fdadecc3-2cbd-4893-9c3a-62d33bc6df03"
      },
      "source": [
        "features_mean = list(df.columns[0:10])\n",
        "features_mean"
      ],
      "execution_count": 7,
      "outputs": [
        {
          "output_type": "execute_result",
          "data": {
            "text/plain": [
              "['mean radius',\n",
              " 'mean texture',\n",
              " 'mean perimeter',\n",
              " 'mean area',\n",
              " 'mean smoothness',\n",
              " 'mean compactness',\n",
              " 'mean concavity',\n",
              " 'mean concave points',\n",
              " 'mean symmetry',\n",
              " 'mean fractal dimension']"
            ]
          },
          "metadata": {
            "tags": []
          },
          "execution_count": 7
        }
      ]
    },
    {
      "cell_type": "code",
      "metadata": {
        "id": "8sFkpnM_e8Yd",
        "colab": {
          "base_uri": "https://localhost:8080/",
          "height": 204
        },
        "outputId": "f499fc00-68a9-4d46-ca5e-2a91a70bf024"
      },
      "source": [
        "df = df[features_mean + ['target']]\n",
        "df.head()"
      ],
      "execution_count": 8,
      "outputs": [
        {
          "output_type": "execute_result",
          "data": {
            "text/html": [
              "<div>\n",
              "<style scoped>\n",
              "    .dataframe tbody tr th:only-of-type {\n",
              "        vertical-align: middle;\n",
              "    }\n",
              "\n",
              "    .dataframe tbody tr th {\n",
              "        vertical-align: top;\n",
              "    }\n",
              "\n",
              "    .dataframe thead th {\n",
              "        text-align: right;\n",
              "    }\n",
              "</style>\n",
              "<table border=\"1\" class=\"dataframe\">\n",
              "  <thead>\n",
              "    <tr style=\"text-align: right;\">\n",
              "      <th></th>\n",
              "      <th>mean radius</th>\n",
              "      <th>mean texture</th>\n",
              "      <th>mean perimeter</th>\n",
              "      <th>mean area</th>\n",
              "      <th>mean smoothness</th>\n",
              "      <th>mean compactness</th>\n",
              "      <th>mean concavity</th>\n",
              "      <th>mean concave points</th>\n",
              "      <th>mean symmetry</th>\n",
              "      <th>mean fractal dimension</th>\n",
              "      <th>target</th>\n",
              "    </tr>\n",
              "  </thead>\n",
              "  <tbody>\n",
              "    <tr>\n",
              "      <th>0</th>\n",
              "      <td>17.99</td>\n",
              "      <td>10.38</td>\n",
              "      <td>122.80</td>\n",
              "      <td>1001.0</td>\n",
              "      <td>0.11840</td>\n",
              "      <td>0.27760</td>\n",
              "      <td>0.3001</td>\n",
              "      <td>0.14710</td>\n",
              "      <td>0.2419</td>\n",
              "      <td>0.07871</td>\n",
              "      <td>0.0</td>\n",
              "    </tr>\n",
              "    <tr>\n",
              "      <th>1</th>\n",
              "      <td>20.57</td>\n",
              "      <td>17.77</td>\n",
              "      <td>132.90</td>\n",
              "      <td>1326.0</td>\n",
              "      <td>0.08474</td>\n",
              "      <td>0.07864</td>\n",
              "      <td>0.0869</td>\n",
              "      <td>0.07017</td>\n",
              "      <td>0.1812</td>\n",
              "      <td>0.05667</td>\n",
              "      <td>0.0</td>\n",
              "    </tr>\n",
              "    <tr>\n",
              "      <th>2</th>\n",
              "      <td>19.69</td>\n",
              "      <td>21.25</td>\n",
              "      <td>130.00</td>\n",
              "      <td>1203.0</td>\n",
              "      <td>0.10960</td>\n",
              "      <td>0.15990</td>\n",
              "      <td>0.1974</td>\n",
              "      <td>0.12790</td>\n",
              "      <td>0.2069</td>\n",
              "      <td>0.05999</td>\n",
              "      <td>0.0</td>\n",
              "    </tr>\n",
              "    <tr>\n",
              "      <th>3</th>\n",
              "      <td>11.42</td>\n",
              "      <td>20.38</td>\n",
              "      <td>77.58</td>\n",
              "      <td>386.1</td>\n",
              "      <td>0.14250</td>\n",
              "      <td>0.28390</td>\n",
              "      <td>0.2414</td>\n",
              "      <td>0.10520</td>\n",
              "      <td>0.2597</td>\n",
              "      <td>0.09744</td>\n",
              "      <td>0.0</td>\n",
              "    </tr>\n",
              "    <tr>\n",
              "      <th>4</th>\n",
              "      <td>20.29</td>\n",
              "      <td>14.34</td>\n",
              "      <td>135.10</td>\n",
              "      <td>1297.0</td>\n",
              "      <td>0.10030</td>\n",
              "      <td>0.13280</td>\n",
              "      <td>0.1980</td>\n",
              "      <td>0.10430</td>\n",
              "      <td>0.1809</td>\n",
              "      <td>0.05883</td>\n",
              "      <td>0.0</td>\n",
              "    </tr>\n",
              "  </tbody>\n",
              "</table>\n",
              "</div>"
            ],
            "text/plain": [
              "   mean radius  mean texture  ...  mean fractal dimension  target\n",
              "0        17.99         10.38  ...                 0.07871     0.0\n",
              "1        20.57         17.77  ...                 0.05667     0.0\n",
              "2        19.69         21.25  ...                 0.05999     0.0\n",
              "3        11.42         20.38  ...                 0.09744     0.0\n",
              "4        20.29         14.34  ...                 0.05883     0.0\n",
              "\n",
              "[5 rows x 11 columns]"
            ]
          },
          "metadata": {
            "tags": []
          },
          "execution_count": 8
        }
      ]
    },
    {
      "cell_type": "markdown",
      "metadata": {
        "id": "W15uZ_Ihe8Yi"
      },
      "source": [
        "**Ejercicio:** Ahora que ya filtramos las columnas con las cuales vamos a trabajar, crea un `pairplot()` y grafica una matriz de correlaciones. ¿Cuáles atributos están correlacionados?¿Se te ocurre por qué?"
      ]
    },
    {
      "cell_type": "markdown",
      "metadata": {
        "id": "YqDSIuphe8Yj"
      },
      "source": [
        "### 1.2 Entrenamiento de los modelos\n",
        "\n",
        "Vamos a entrenar un árbol de decisión de profundidad infinita (`max_depth = None`) y un modelo de vecinos más cercanos con `n_neighbors=1`. Los vamos a entrenar y evaluar haciendo un `train_test_split` (con `test_size=0.10`) de los datos. Pero antes de eso, debemos seleccionar las variables de entrenamiento y la etiqueta."
      ]
    },
    {
      "cell_type": "code",
      "metadata": {
        "id": "mxtAalake8Yk"
      },
      "source": [
        "# X = df.drop(columns = ['target'])\n",
        "X = df[['mean radius','mean smoothness', 'mean concave points']] #Observa que sólo usamos 3 features del dataset\n",
        "y = df['target']"
      ],
      "execution_count": 10,
      "outputs": []
    },
    {
      "cell_type": "code",
      "metadata": {
        "id": "mCqxhv33e8Yt"
      },
      "source": [
        "from sklearn.model_selection import train_test_split\n",
        "\n",
        "X_train, X_test, y_train, y_test = train_test_split(X, y, test_size=0.10, random_state=1)"
      ],
      "execution_count": 11,
      "outputs": []
    },
    {
      "cell_type": "markdown",
      "metadata": {
        "id": "kD5vBHD-e8Yo"
      },
      "source": [
        "Como ya hemos visto anteriormente, debemos proceder a reescalar los datos."
      ]
    },
    {
      "cell_type": "code",
      "metadata": {
        "id": "L09399xge8Yo"
      },
      "source": [
        "from sklearn.preprocessing import StandardScaler\n",
        "\n",
        "scl = StandardScaler()\n",
        "X_train = scl.fit_transform(X_train)\n",
        "X_test = scl.transform(X_test)"
      ],
      "execution_count": 12,
      "outputs": []
    },
    {
      "cell_type": "markdown",
      "metadata": {
        "id": "lLXaYdrVe8Yy"
      },
      "source": [
        "***Tip:*** Una buena práctica cuando separamos en conjuntos de `train` y `test` es chequear que las distribuciones que obtenemos sean similares. Obviamente, a medida que tenemos más features, esto se hace más difícil."
      ]
    },
    {
      "cell_type": "code",
      "metadata": {
        "id": "f7YtGL3Ke8Yz",
        "colab": {
          "base_uri": "https://localhost:8080/",
          "height": 1000
        },
        "outputId": "5b95decd-047e-47fa-84c6-d451b0375e4b"
      },
      "source": [
        "for i in range(X_train.shape[1]):\n",
        "    plt.figure(figsize=(10,5))\n",
        "    sns.distplot(X_train[:,i])\n",
        "    sns.distplot(X_test[:,i])\n",
        "    plt.show()"
      ],
      "execution_count": 13,
      "outputs": [
        {
          "output_type": "stream",
          "text": [
            "/usr/local/lib/python3.6/dist-packages/seaborn/distributions.py:2557: FutureWarning: `distplot` is a deprecated function and will be removed in a future version. Please adapt your code to use either `displot` (a figure-level function with similar flexibility) or `histplot` (an axes-level function for histograms).\n",
            "  warnings.warn(msg, FutureWarning)\n",
            "/usr/local/lib/python3.6/dist-packages/seaborn/distributions.py:2557: FutureWarning: `distplot` is a deprecated function and will be removed in a future version. Please adapt your code to use either `displot` (a figure-level function with similar flexibility) or `histplot` (an axes-level function for histograms).\n",
            "  warnings.warn(msg, FutureWarning)\n"
          ],
          "name": "stderr"
        },
        {
          "output_type": "display_data",
          "data": {
            "image/png": "[encoded data removed]",
            "text/plain": [
              "<Figure size 720x360 with 1 Axes>"
            ]
          },
          "metadata": {
            "tags": [],
            "needs_background": "light"
          }
        },
        {
          "output_type": "stream",
          "text": [
            "/usr/local/lib/python3.6/dist-packages/seaborn/distributions.py:2557: FutureWarning: `distplot` is a deprecated function and will be removed in a future version. Please adapt your code to use either `displot` (a figure-level function with similar flexibility) or `histplot` (an axes-level function for histograms).\n",
            "  warnings.warn(msg, FutureWarning)\n",
            "/usr/local/lib/python3.6/dist-packages/seaborn/distributions.py:2557: FutureWarning: `distplot` is a deprecated function and will be removed in a future version. Please adapt your code to use either `displot` (a figure-level function with similar flexibility) or `histplot` (an axes-level function for histograms).\n",
            "  warnings.warn(msg, FutureWarning)\n"
          ],
          "name": "stderr"
        },
        {
          "output_type": "display_data",
          "data": {
            "image/png": "[encoded data removed]",
            "text/plain": [
              "<Figure size 720x360 with 1 Axes>"
            ]
          },
          "metadata": {
            "tags": [],
            "needs_background": "light"
          }
        },
        {
          "output_type": "stream",
          "text": [
            "/usr/local/lib/python3.6/dist-packages/seaborn/distributions.py:2557: FutureWarning: `distplot` is a deprecated function and will be removed in a future version. Please adapt your code to use either `displot` (a figure-level function with similar flexibility) or `histplot` (an axes-level function for histograms).\n",
            "  warnings.warn(msg, FutureWarning)\n",
            "/usr/local/lib/python3.6/dist-packages/seaborn/distributions.py:2557: FutureWarning: `distplot` is a deprecated function and will be removed in a future version. Please adapt your code to use either `displot` (a figure-level function with similar flexibility) or `histplot` (an axes-level function for histograms).\n",
            "  warnings.warn(msg, FutureWarning)\n"
          ],
          "name": "stderr"
        },
        {
          "output_type": "display_data",
          "data": {
            "image/png": "[encoded data removed]",
            "text/plain": [
              "<Figure size 720x360 with 1 Axes>"
            ]
          },
          "metadata": {
            "tags": [],
            "needs_background": "light"
          }
        }
      ]
    },
    {
      "cell_type": "markdown",
      "metadata": {
        "id": "-X9zSYSge8Y3"
      },
      "source": [
        "Pero... ¿Será suficiente chequear esto?\n",
        "\n",
        "***Tip 2:*** Otras cosa que podemos hacer es chequear que la proporción de cada clase en las etiquetas en ambos conjuntos sea parecida."
      ]
    },
    {
      "cell_type": "code",
      "metadata": {
        "id": "Cm1z8j-Ee8Y3",
        "colab": {
          "base_uri": "https://localhost:8080/"
        },
        "outputId": "c573b6d9-5ed8-4816-bb87-47239292bbe3"
      },
      "source": [
        "print('Proporcion de etiquetas positiva en los datos de Train: ', y_train.sum()/y_train.size)\n",
        "print('Proporcion de etiquetas positiva en los datos de Test: ', y_test.sum()/y_test.size)"
      ],
      "execution_count": 15,
      "outputs": [
        {
          "output_type": "stream",
          "text": [
            "Proporcion de etiquetas positiva en los datos de Train:  0.630859375\n",
            "Proporcion de etiquetas positiva en los datos de Test:  0.5964912280701754\n"
          ],
          "name": "stdout"
        }
      ]
    },
    {
      "cell_type": "markdown",
      "metadata": {
        "id": "Q_0Ertq0e8Y7"
      },
      "source": [
        "**Para pensar:** Y si la proporcición no fuera parecida, ¿Qué deberíamos hacer? \n",
        "\n",
        "**Ejercicio:** ¿Qué hace el parámetro `stratify` de la función `train_test_split()`?\n",
        "\n",
        "**Para pensar**: ¿Cuál será desempeño aproximado - accuracy - del modelo más sencillo que podemos crear para detectar casos positivos? Pensar en benchmarks."
      ]
    },
    {
      "cell_type": "markdown",
      "metadata": {
        "id": "PZD2oX3Ee8Y8"
      },
      "source": [
        "#### A entrenar..."
      ]
    },
    {
      "cell_type": "code",
      "metadata": {
        "id": "kCT6F2fMe8Y9"
      },
      "source": [
        "from sklearn.tree import DecisionTreeClassifier\n",
        "from sklearn.metrics import accuracy_score\n",
        "from sklearn.neighbors import KNeighborsClassifier"
      ],
      "execution_count": 16,
      "outputs": []
    },
    {
      "cell_type": "markdown",
      "metadata": {
        "id": "OwLgPKzQe8ZA"
      },
      "source": [
        "#### `Árbol de Decisión`"
      ]
    },
    {
      "cell_type": "code",
      "metadata": {
        "id": "Mluc5OMTe8ZB",
        "colab": {
          "base_uri": "https://localhost:8080/"
        },
        "outputId": "b29ba106-c336-4d7b-e370-5152f8ef4700"
      },
      "source": [
        "tree = DecisionTreeClassifier(max_depth = None)\n",
        "tree.fit(X_train, y_train)"
      ],
      "execution_count": 17,
      "outputs": [
        {
          "output_type": "execute_result",
          "data": {
            "text/plain": [
              "DecisionTreeClassifier(ccp_alpha=0.0, class_weight=None, criterion='gini',\n",
              "                       max_depth=None, max_features=None, max_leaf_nodes=None,\n",
              "                       min_impurity_decrease=0.0, min_impurity_split=None,\n",
              "                       min_samples_leaf=1, min_samples_split=2,\n",
              "                       min_weight_fraction_leaf=0.0, presort='deprecated',\n",
              "                       random_state=None, splitter='best')"
            ]
          },
          "metadata": {
            "tags": []
          },
          "execution_count": 17
        }
      ]
    },
    {
      "cell_type": "code",
      "metadata": {
        "id": "-NN5zNjTe8ZF",
        "colab": {
          "base_uri": "https://localhost:8080/"
        },
        "outputId": "b1d13bbf-9c26-48ea-fda7-30ef4d938545"
      },
      "source": [
        "# Predecimos sobre nuestro set de entrenamieto\n",
        "y_train_pred = tree.predict(X_train)\n",
        "\n",
        "# Predecimos sobre nuestro set de test\n",
        "y_test_pred = tree.predict(X_test)\n",
        "\n",
        "# Comaparamos con las etiquetas reales\n",
        "print('Accuracy sobre conjunto de Train:', accuracy_score(y_train_pred,y_train))\n",
        "print('Accuracy sobre conjunto de Test:', accuracy_score(y_test_pred,y_test))"
      ],
      "execution_count": 18,
      "outputs": [
        {
          "output_type": "stream",
          "text": [
            "Accuracy sobre conjunto de Train: 1.0\n",
            "Accuracy sobre conjunto de Test: 0.8771929824561403\n"
          ],
          "name": "stdout"
        }
      ]
    },
    {
      "cell_type": "markdown",
      "metadata": {
        "id": "s2Z2htpLe8ZJ"
      },
      "source": [
        "#### `KNN`"
      ]
    },
    {
      "cell_type": "code",
      "metadata": {
        "id": "k2rqE6i2e8ZJ",
        "colab": {
          "base_uri": "https://localhost:8080/"
        },
        "outputId": "ee08e4ba-3346-4b2b-9dea-837f2551d942"
      },
      "source": [
        "knn = KNeighborsClassifier(n_neighbors=1)\n",
        "knn.fit(X_train, y_train)"
      ],
      "execution_count": 19,
      "outputs": [
        {
          "output_type": "execute_result",
          "data": {
            "text/plain": [
              "KNeighborsClassifier(algorithm='auto', leaf_size=30, metric='minkowski',\n",
              "                     metric_params=None, n_jobs=None, n_neighbors=1, p=2,\n",
              "                     weights='uniform')"
            ]
          },
          "metadata": {
            "tags": []
          },
          "execution_count": 19
        }
      ]
    },
    {
      "cell_type": "code",
      "metadata": {
        "id": "tKA43jKFe8ZM",
        "colab": {
          "base_uri": "https://localhost:8080/"
        },
        "outputId": "c966625b-2695-4892-f054-e0e269503f31"
      },
      "source": [
        "# Predecimos sobre nuestro set de entrenamieto\n",
        "y_train_pred = knn.predict(X_train)\n",
        "\n",
        "# Predecimos sobre nuestro set de test\n",
        "y_test_pred = knn.predict(X_test)\n",
        "\n",
        "# Comaparamos con las etiquetas reales\n",
        "print('Accuracy sobre conjunto de Train:', accuracy_score(y_train_pred,y_train))\n",
        "print('Accuracy sobre conjunto de Test:', accuracy_score(y_test_pred,y_test))"
      ],
      "execution_count": 20,
      "outputs": [
        {
          "output_type": "stream",
          "text": [
            "Accuracy sobre conjunto de Train: 1.0\n",
            "Accuracy sobre conjunto de Test: 0.8947368421052632\n"
          ],
          "name": "stdout"
        }
      ]
    },
    {
      "cell_type": "markdown",
      "metadata": {
        "id": "xddgFazPe8ZR"
      },
      "source": [
        "Bien, cada modelo obtuvo un determinado desempeño... Pero, ¿Este desempeño depende de la partición que hayamos hecho de los datos de `train/test`?\n",
        "\n",
        "**Ejercicio:** Para ver si esto es cierto, vuelve a realizar la partición de datos pero ésta vez modifiquen el argumento `random_state` de la función `train_test_split()`. ¿Obtienes los mismos resultados?"
      ]
    },
    {
      "cell_type": "markdown",
      "metadata": {
        "id": "hnrFsTANe8ZS"
      },
      "source": [
        "### 1.3 Validación Cruzada\n",
        "\n",
        "Vamos a evaluar los modelos que creamos utilizando validación cruzada.\n",
        "\n",
        "Scikit-Learn tiene varias funciones ya incorporadas que evalúan los modelos usando validación cruzada. Las más sencilla de usar es `cross_val_score()`, que evalúa un score (para clasificaciones por defecto es el `Accuracy`) y de un modelo por CV."
      ]
    },
    {
      "cell_type": "code",
      "metadata": {
        "id": "NFEhtkZHe8ZS"
      },
      "source": [
        "from sklearn.model_selection import cross_val_score"
      ],
      "execution_count": 23,
      "outputs": []
    },
    {
      "cell_type": "code",
      "metadata": {
        "id": "hKXO0ngre8ZV"
      },
      "source": [
        "tree = DecisionTreeClassifier()\n",
        "tree_scores = cross_val_score(tree, X, y, cv=5)\n",
        "\n",
        "knn = KNeighborsClassifier(n_neighbors=1)\n",
        "knn_scores = cross_val_score(knn, X, y, cv=5)"
      ],
      "execution_count": 24,
      "outputs": []
    },
    {
      "cell_type": "code",
      "metadata": {
        "id": "lpyayJMze8ZZ",
        "colab": {
          "base_uri": "https://localhost:8080/"
        },
        "outputId": "2acaa961-ea7b-4516-aabe-81c5bbc51844"
      },
      "source": [
        "print(tree_scores, knn_scores)\n",
        "# print(tree_scores.mean(), knn_scores.mean())\n",
        "print(\"Accuracy para Tree: %0.2f (+/- %0.2f)\" % (tree_scores.mean(), tree_scores.std() * 2))\n",
        "print(\"Accuracy para KNN: %0.2f (+/- %0.2f)\" % (knn_scores.mean(), knn_scores.std() * 2))"
      ],
      "execution_count": 25,
      "outputs": [
        {
          "output_type": "stream",
          "text": [
            "[0.85087719 0.89473684 0.92982456 0.92982456 0.88495575] [0.8245614  0.86842105 0.85964912 0.92105263 0.87610619]\n",
            "Accuracy para Tree: 0.90 (+/- 0.06)\n",
            "Accuracy para KNN: 0.87 (+/- 0.06)\n"
          ],
          "name": "stdout"
        }
      ]
    },
    {
      "cell_type": "markdown",
      "metadata": {
        "id": "QoB1l6WWe8Zd"
      },
      "source": [
        "¡Ahora podemos obtener una evaluación del modelo que no depende tanto de la partición hecha!\n",
        "\n",
        "Por otra parte, `cross_validate()` es otra función muy parecida, pero un poco más versátil e informativa. Además de devolver los `scores`, devuelve algunas métricas que pueden ser útiles, como por ejemplo: tiempo de entrenamiento, los modelos entrenados, etc. Además, permite evaluar más de una métrica."
      ]
    },
    {
      "cell_type": "code",
      "metadata": {
        "id": "zAr5Araze8Zd"
      },
      "source": [
        "from sklearn.model_selection import cross_validate"
      ],
      "execution_count": 26,
      "outputs": []
    },
    {
      "cell_type": "code",
      "metadata": {
        "id": "HYr3NYt0e8Zg"
      },
      "source": [
        "tree_scores = cross_validate(tree, X, y, cv=5)\n",
        "knn_scores = cross_validate(knn, X, y, cv=5)"
      ],
      "execution_count": 27,
      "outputs": []
    },
    {
      "cell_type": "code",
      "metadata": {
        "id": "0nT9eYMTe8Zk",
        "colab": {
          "base_uri": "https://localhost:8080/"
        },
        "outputId": "da070e11-0fef-42ff-97fe-d2b5131c7972"
      },
      "source": [
        "print(tree_scores)\n",
        "print(knn_scores)"
      ],
      "execution_count": 28,
      "outputs": [
        {
          "output_type": "stream",
          "text": [
            "{'fit_time': array([0.0044322 , 0.00513983, 0.00225401, 0.00215292, 0.00221276]), 'score_time': array([0.00188684, 0.00098801, 0.00094342, 0.00091219, 0.00093532]), 'test_score': array([0.88596491, 0.88596491, 0.92105263, 0.9122807 , 0.86725664])}\n",
            "{'fit_time': array([0.00170684, 0.00214267, 0.00208831, 0.00206709, 0.00214195]), 'score_time': array([0.00480676, 0.00524879, 0.00520182, 0.0054419 , 0.00545549]), 'test_score': array([0.8245614 , 0.86842105, 0.85964912, 0.92105263, 0.87610619])}\n"
          ],
          "name": "stdout"
        }
      ]
    },
    {
      "cell_type": "markdown",
      "metadata": {
        "id": "9YnBqeute8Zm"
      },
      "source": [
        "La siguiente celda imprime una lista de todas las métricas que podemos usar para evaluar con `cross_validate()`"
      ]
    },
    {
      "cell_type": "code",
      "metadata": {
        "id": "kDV37Alie8Zn",
        "colab": {
          "base_uri": "https://localhost:8080/"
        },
        "outputId": "f0b7eb9b-9181-4266-f447-16f6da74a2e1"
      },
      "source": [
        "import sklearn\n",
        "sorted(sklearn.metrics.SCORERS.keys())"
      ],
      "execution_count": 29,
      "outputs": [
        {
          "output_type": "execute_result",
          "data": {
            "text/plain": [
              "['accuracy',\n",
              " 'adjusted_mutual_info_score',\n",
              " 'adjusted_rand_score',\n",
              " 'average_precision',\n",
              " 'balanced_accuracy',\n",
              " 'completeness_score',\n",
              " 'explained_variance',\n",
              " 'f1',\n",
              " 'f1_macro',\n",
              " 'f1_micro',\n",
              " 'f1_samples',\n",
              " 'f1_weighted',\n",
              " 'fowlkes_mallows_score',\n",
              " 'homogeneity_score',\n",
              " 'jaccard',\n",
              " 'jaccard_macro',\n",
              " 'jaccard_micro',\n",
              " 'jaccard_samples',\n",
              " 'jaccard_weighted',\n",
              " 'max_error',\n",
              " 'mutual_info_score',\n",
              " 'neg_brier_score',\n",
              " 'neg_log_loss',\n",
              " 'neg_mean_absolute_error',\n",
              " 'neg_mean_gamma_deviance',\n",
              " 'neg_mean_poisson_deviance',\n",
              " 'neg_mean_squared_error',\n",
              " 'neg_mean_squared_log_error',\n",
              " 'neg_median_absolute_error',\n",
              " 'neg_root_mean_squared_error',\n",
              " 'normalized_mutual_info_score',\n",
              " 'precision',\n",
              " 'precision_macro',\n",
              " 'precision_micro',\n",
              " 'precision_samples',\n",
              " 'precision_weighted',\n",
              " 'r2',\n",
              " 'recall',\n",
              " 'recall_macro',\n",
              " 'recall_micro',\n",
              " 'recall_samples',\n",
              " 'recall_weighted',\n",
              " 'roc_auc',\n",
              " 'roc_auc_ovo',\n",
              " 'roc_auc_ovo_weighted',\n",
              " 'roc_auc_ovr',\n",
              " 'roc_auc_ovr_weighted',\n",
              " 'v_measure_score']"
            ]
          },
          "metadata": {
            "tags": []
          },
          "execution_count": 29
        }
      ]
    },
    {
      "cell_type": "markdown",
      "metadata": {
        "id": "Wq0Qt1Xpe8Zq"
      },
      "source": [
        "**Ejercicio - Challenge:** Como habrás notado antes de entrenar los modelos, volvímos a filtrar el dataset y sólo usamos tres features del mismo:\n",
        "\n",
        "```python\n",
        "X = df[['mean radius','mean smoothness', 'mean concave points']]\n",
        "```\n",
        "\n",
        "Vuelve a entrenar los modelos, pero con otras features. Puedes ver la matriz de correlaciones si deseas y en base a lo que ves allí realizar tu elección."
      ]
    },
    {
      "cell_type": "markdown",
      "metadata": {
        "id": "ng9pHBK0e8Zr"
      },
      "source": [
        "## 2. Curvas de Validación\n",
        "\n",
        "Ya vimos la importancia de las curvas de validación, ahora veamos como graficar una curva de validación usando los conjuntos de `train` y de `test` que ya creamos y combinando con Validación Cruzada."
      ]
    },
    {
      "cell_type": "code",
      "metadata": {
        "id": "6eMa3d06e8Zr"
      },
      "source": [
        "scores_train = []\n",
        "scores_test = []\n",
        "profundidades = np.arange(1,50)\n",
        "for max_depth in profundidades:\n",
        "    clf = DecisionTreeClassifier(max_depth=max_depth, random_state=42)\n",
        "    clf.fit(X_train, y_train)\n",
        "    \n",
        "    y_pred_train = clf.predict(X_train)\n",
        "    y_pred_test = clf.predict(X_test)\n",
        "    \n",
        "    scores_train.append(accuracy_score(y_train, y_pred_train))\n",
        "    scores_test.append(accuracy_score(y_test, y_pred_test))\n",
        "\n",
        "scores_train = np.array(scores_train)\n",
        "scores_test = np.array(scores_test)"
      ],
      "execution_count": 30,
      "outputs": []
    },
    {
      "cell_type": "code",
      "metadata": {
        "id": "KTDzjNQ3e8Zu",
        "colab": {
          "base_uri": "https://localhost:8080/",
          "height": 339
        },
        "outputId": "51b6b271-02eb-4eab-9922-39c08a0ff1a4"
      },
      "source": [
        "plt.figure(figsize=(10,5))\n",
        "plt.plot(profundidades,scores_train, label = 'Scores Train')\n",
        "plt.plot(profundidades,scores_test, label = 'Scores Test')\n",
        "plt.legend()\n",
        "plt.ylabel('Accuracy')\n",
        "plt.xlabel('Profundidad Arbol de Decision')\n",
        "plt.show()"
      ],
      "execution_count": 31,
      "outputs": [
        {
          "output_type": "display_data",
          "data": {
            "image/png": "[encoded data removed]",
            "text/plain": [
              "<Figure size 720x360 with 1 Axes>"
            ]
          },
          "metadata": {
            "tags": [],
            "needs_background": "light"
          }
        }
      ]
    },
    {
      "cell_type": "markdown",
      "metadata": {
        "id": "GeJ41Jm2e8Zz"
      },
      "source": [
        "¡Pero lo ideal sería graficar la curva de validación aplicando validación cruzada!"
      ]
    },
    {
      "cell_type": "code",
      "metadata": {
        "id": "L_CqgdKDe8Z0"
      },
      "source": [
        "tree_train_scores_mean = []\n",
        "tree_train_scores_std = []\n",
        "tree_test_scores_mean = []\n",
        "tree_test_scores_std = []\n",
        "\n",
        "profundidades = np.arange(1,50,1)\n",
        "\n",
        "for profundidad in profundidades:\n",
        "    clf = DecisionTreeClassifier(max_depth=profundidad)\n",
        "    tree_scores = cross_validate(clf, X, y, cv=5, return_train_score=True, n_jobs = -1)\n",
        "    \n",
        "    tree_train_scores_mean.append(tree_scores['train_score'].mean())\n",
        "    tree_train_scores_std.append(tree_scores['train_score'].std())\n",
        "    \n",
        "    tree_test_scores_mean.append(tree_scores['test_score'].mean())\n",
        "    tree_test_scores_std.append(tree_scores['test_score'].std())\n",
        "\n",
        "tree_train_scores_mean = np.array(tree_train_scores_mean)\n",
        "tree_train_scores_std = np.array(tree_train_scores_std)\n",
        "tree_test_scores_mean = np.array(tree_test_scores_mean)\n",
        "tree_test_scores_std = np.array(tree_test_scores_std)"
      ],
      "execution_count": 32,
      "outputs": []
    },
    {
      "cell_type": "code",
      "metadata": {
        "id": "2PhYqy0Ae8Z3",
        "colab": {
          "base_uri": "https://localhost:8080/",
          "height": 502
        },
        "outputId": "a1a554f3-ef5e-4497-8c21-cf2c90aa2ef8"
      },
      "source": [
        "plt.figure(figsize=(12,8))\n",
        "plt.fill_between(profundidades, tree_train_scores_mean - tree_train_scores_std,\n",
        "                 tree_train_scores_mean + tree_train_scores_std, alpha=0.1,\n",
        "                 color=\"r\")\n",
        "plt.fill_between(profundidades, tree_test_scores_mean - tree_test_scores_std,\n",
        "                 tree_test_scores_mean + tree_test_scores_std, alpha=0.1, color=\"g\")\n",
        "plt.plot(profundidades, tree_train_scores_mean, 'o-', color=\"r\",\n",
        "         label=\"Training score\")\n",
        "plt.plot(profundidades, tree_test_scores_mean, 'o-', color=\"g\",\n",
        "         label=\"Test score\")\n",
        "plt.legend()\n",
        "plt.ylabel('Accuracy')\n",
        "plt.xlabel('Profundidad Arbol de Decision')\n",
        "plt.show()"
      ],
      "execution_count": 33,
      "outputs": [
        {
          "output_type": "display_data",
          "data": {
            "image/png": "[encoded data removed]",
            "text/plain": [
              "<Figure size 864x576 with 1 Axes>"
            ]
          },
          "metadata": {
            "tags": [],
            "needs_background": "light"
          }
        }
      ]
    },
    {
      "cell_type": "markdown",
      "metadata": {
        "id": "qVdV9ZrXe8Z5"
      },
      "source": [
        "**Ejercicio:** Hacer una curva de validación para un modelo de KNN en función de la cantidad de vecinos, usando además validación cruzada."
      ]
    },
    {
      "cell_type": "markdown",
      "metadata": {
        "id": "xrjJHS-Ge8Z5"
      },
      "source": [
        "## 3. Curva de ROC en Scikit-Learn\n",
        "\n",
        "En primer lugar, dejamos el link a la Documentación de [Curvas de ROC en Scikit-Learn](https://scikit-learn.org/stable/auto_examples/model_selection/plot_roc.html)."
      ]
    },
    {
      "cell_type": "code",
      "metadata": {
        "id": "e6LRXw4se8Z6"
      },
      "source": [
        "import numpy as np\n",
        "import matplotlib.pyplot as plt\n",
        "%matplotlib inline"
      ],
      "execution_count": 34,
      "outputs": []
    },
    {
      "cell_type": "markdown",
      "metadata": {
        "id": "hsY9WQp-e8Z9"
      },
      "source": [
        "Importamos las librerías necesarias para graficar las curva de ROC y calcular el AUC."
      ]
    },
    {
      "cell_type": "code",
      "metadata": {
        "id": "2xR1zRdhe8Z-"
      },
      "source": [
        "from sklearn import datasets\n",
        "from sklearn.metrics import roc_curve, auc\n",
        "from sklearn.model_selection import train_test_split\n",
        "from sklearn.preprocessing import label_binarize\n",
        "from sklearn.metrics import roc_auc_score\n",
        "from sklearn.neighbors import KNeighborsClassifier"
      ],
      "execution_count": 35,
      "outputs": []
    },
    {
      "cell_type": "code",
      "metadata": {
        "id": "bzk2-mLRe8aA",
        "colab": {
          "base_uri": "https://localhost:8080/"
        },
        "outputId": "74ab0813-ac2d-4694-f8b4-767fb9823e04"
      },
      "source": [
        "iris = datasets.load_iris()\n",
        "X = iris.data \n",
        "y = iris.target\n",
        "print(y)"
      ],
      "execution_count": 36,
      "outputs": [
        {
          "output_type": "stream",
          "text": [
            "[0 0 0 0 0 0 0 0 0 0 0 0 0 0 0 0 0 0 0 0 0 0 0 0 0 0 0 0 0 0 0 0 0 0 0 0 0\n",
            " 0 0 0 0 0 0 0 0 0 0 0 0 0 1 1 1 1 1 1 1 1 1 1 1 1 1 1 1 1 1 1 1 1 1 1 1 1\n",
            " 1 1 1 1 1 1 1 1 1 1 1 1 1 1 1 1 1 1 1 1 1 1 1 1 1 1 2 2 2 2 2 2 2 2 2 2 2\n",
            " 2 2 2 2 2 2 2 2 2 2 2 2 2 2 2 2 2 2 2 2 2 2 2 2 2 2 2 2 2 2 2 2 2 2 2 2 2\n",
            " 2 2]\n"
          ],
          "name": "stdout"
        }
      ]
    },
    {
      "cell_type": "code",
      "metadata": {
        "id": "_QaUmL8he8aD"
      },
      "source": [
        "X_train, X_test, y_train, y_test = train_test_split(X, y, test_size=.2, random_state=42)"
      ],
      "execution_count": 37,
      "outputs": []
    },
    {
      "cell_type": "markdown",
      "metadata": {
        "id": "YFH0-RULe8aG"
      },
      "source": [
        "Binarizamos `y_test`"
      ]
    },
    {
      "cell_type": "code",
      "metadata": {
        "id": "LfxkpJIAe8aG",
        "colab": {
          "base_uri": "https://localhost:8080/"
        },
        "outputId": "3a0037a1-b054-494e-f1cd-8c0ab05d2fdf"
      },
      "source": [
        "y_test = label_binarize(y_test, classes=[0, 1, 2])\n",
        "n_classes = y_test.shape[1]\n",
        "print(y_test[:5])"
      ],
      "execution_count": 38,
      "outputs": [
        {
          "output_type": "stream",
          "text": [
            "[[0 1 0]\n",
            " [1 0 0]\n",
            " [0 0 1]\n",
            " [0 1 0]\n",
            " [0 1 0]]\n"
          ],
          "name": "stdout"
        }
      ]
    },
    {
      "cell_type": "code",
      "metadata": {
        "id": "qv-8dqtTe8aI",
        "colab": {
          "base_uri": "https://localhost:8080/"
        },
        "outputId": "947fc83b-0a56-4836-9aea-5d87b5b658b8"
      },
      "source": [
        "classifier = KNeighborsClassifier(n_neighbors=100)\n",
        "classifier.fit(X_train, y_train)\n",
        "y_score = classifier.predict_proba(X_test)\n",
        "print(y_score[:5])"
      ],
      "execution_count": 39,
      "outputs": [
        {
          "output_type": "stream",
          "text": [
            "[[0.2  0.41 0.39]\n",
            " [0.4  0.41 0.19]\n",
            " [0.2  0.41 0.39]\n",
            " [0.2  0.41 0.39]\n",
            " [0.2  0.41 0.39]]\n"
          ],
          "name": "stdout"
        }
      ]
    },
    {
      "cell_type": "markdown",
      "metadata": {
        "id": "ROftXYuEe8aK"
      },
      "source": [
        "Para tener en cuenta:\n",
        "\n",
        "* `.predict()` dará como salida un 0 o un 1.\n",
        "* `.predict_proba()` dará como salida una estimación de la probabilidad."
      ]
    },
    {
      "cell_type": "code",
      "metadata": {
        "id": "_wuPmWvOe8aK"
      },
      "source": [
        "# Computamos los valores de FPR y TPR, para poder luego realizar el gráfico de la curva ROC\n",
        "fpr = dict()\n",
        "tpr = dict()\n",
        "roc_auc = dict()\n",
        "\n",
        "for i in range(n_classes):\n",
        "    fpr[i], tpr[i], _ = roc_curve(y_test[:, i], y_score[:, i])\n",
        "    roc_auc[i] = auc(fpr[i], tpr[i])"
      ],
      "execution_count": 40,
      "outputs": []
    },
    {
      "cell_type": "code",
      "metadata": {
        "id": "lBsyr5Fue8aM",
        "colab": {
          "base_uri": "https://localhost:8080/",
          "height": 1000
        },
        "outputId": "d38acaf0-0f97-4949-abb8-93687c86d4ac"
      },
      "source": [
        "for i in range(n_classes):\n",
        "    plt.figure(figsize=(10,5))\n",
        "    plt.plot(fpr[i], tpr[i],'o--', label='ROC curve (area = %0.2f)' % roc_auc[i])\n",
        "    plt.plot([0, 1], [0, 1], 'k--')\n",
        "    plt.xlim([0.0, 1.0])\n",
        "    plt.ylim([0.0, 1.05])\n",
        "    plt.xlabel('False Positive Rate')\n",
        "    plt.ylabel('True Positive Rate')\n",
        "    plt.title('Curva ROC: Clase ' + str(i))\n",
        "    plt.legend(loc=\"lower right\")\n",
        "    plt.show()"
      ],
      "execution_count": 41,
      "outputs": [
        {
          "output_type": "display_data",
          "data": {
            "image/png": "[encoded data removed]",
            "text/plain": [
              "<Figure size 720x360 with 1 Axes>"
            ]
          },
          "metadata": {
            "tags": [],
            "needs_background": "light"
          }
        },
        {
          "output_type": "display_data",
          "data": {
            "image/png": "[encoded data removed]",
            "text/plain": [
              "<Figure size 720x360 with 1 Axes>"
            ]
          },
          "metadata": {
            "tags": [],
            "needs_background": "light"
          }
        },
        {
          "output_type": "display_data",
          "data": {
            "image/png": "[encoded data removed]",
            "text/plain": [
              "<Figure size 720x360 with 1 Axes>"
            ]
          },
          "metadata": {
            "tags": [],
            "needs_background": "light"
          }
        }
      ]
    },
    {
      "cell_type": "markdown",
      "metadata": {
        "id": "ei8OyxrVe8aP"
      },
      "source": [
        "**Ejercicio:** Buscá algún dataset de clasificación binario (por ejemplo: como el de la primera parte de este notebook), entrena un modelo a tu elección y grafica sus curvas de ROC."
      ]
    },
    {
      "cell_type": "code",
      "metadata": {
        "id": "0NHvhU4Te8aP"
      },
      "source": [
        ""
      ],
      "execution_count": 41,
      "outputs": []
    }
  ]
}